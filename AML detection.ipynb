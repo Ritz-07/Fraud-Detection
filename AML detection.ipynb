{
 "cells": [
  {
   "cell_type": "markdown",
   "metadata": {},
   "source": [
    "# Fraud Detection \n",
    "The project aims to detect fraudulent transaction. The details regarding the data used for the project can be found here: https://www.kaggle.com/c/fraud-detection-analysis The data provided was synthetically generated over a period of time."
   ]
  },
  {
   "cell_type": "code",
   "execution_count": 37,
   "metadata": {},
   "outputs": [],
   "source": [
    "import os\n",
    "import pandas as pd\n",
    "import numpy as np\n",
    "import scipy as sp\n",
    "import matplotlib.pyplot as plt\n",
    "import seaborn as sns\n",
    "sns.set_style('darkgrid')\n",
    "import warnings\n",
    "warnings.filterwarnings('ignore')\n",
    "from sklearn.metrics import recall_score, f1_score, confusion_matrix, classification_report, plot_confusion_matrix\n",
    "from sklearn.model_selection import train_test_split"
   ]
  },
  {
   "cell_type": "code",
   "execution_count": 2,
   "metadata": {},
   "outputs": [],
   "source": [
    "data = pd.read_csv('PS_20174392719_1491204439457_log.csv')"
   ]
  },
  {
   "cell_type": "code",
   "execution_count": 3,
   "metadata": {},
   "outputs": [
    {
     "data": {
      "text/plain": [
       "Index(['step', 'type', 'amount', 'nameOrig', 'oldbalanceOrg', 'newbalanceOrig',\n",
       "       'nameDest', 'oldbalanceDest', 'newbalanceDest', 'isFraud',\n",
       "       'isFlaggedFraud'],\n",
       "      dtype='object')"
      ]
     },
     "execution_count": 3,
     "metadata": {},
     "output_type": "execute_result"
    }
   ],
   "source": [
    "data.columns"
   ]
  },
  {
   "cell_type": "code",
   "execution_count": 4,
   "metadata": {},
   "outputs": [
    {
     "data": {
      "text/html": [
       "<div>\n",
       "<style scoped>\n",
       "    .dataframe tbody tr th:only-of-type {\n",
       "        vertical-align: middle;\n",
       "    }\n",
       "\n",
       "    .dataframe tbody tr th {\n",
       "        vertical-align: top;\n",
       "    }\n",
       "\n",
       "    .dataframe thead th {\n",
       "        text-align: right;\n",
       "    }\n",
       "</style>\n",
       "<table border=\"1\" class=\"dataframe\">\n",
       "  <thead>\n",
       "    <tr style=\"text-align: right;\">\n",
       "      <th></th>\n",
       "      <th>step</th>\n",
       "      <th>type</th>\n",
       "      <th>amount</th>\n",
       "      <th>name_org</th>\n",
       "      <th>old_balance_org</th>\n",
       "      <th>new_balance_org</th>\n",
       "      <th>name_dest</th>\n",
       "      <th>old_balance_dest</th>\n",
       "      <th>new_balance_dest</th>\n",
       "      <th>is_fraud</th>\n",
       "      <th>is_flagged_fraud</th>\n",
       "    </tr>\n",
       "  </thead>\n",
       "  <tbody>\n",
       "    <tr>\n",
       "      <th>0</th>\n",
       "      <td>1</td>\n",
       "      <td>PAYMENT</td>\n",
       "      <td>9839.64</td>\n",
       "      <td>C1231006815</td>\n",
       "      <td>170136.0</td>\n",
       "      <td>160296.36</td>\n",
       "      <td>M1979787155</td>\n",
       "      <td>0.0</td>\n",
       "      <td>0.0</td>\n",
       "      <td>0</td>\n",
       "      <td>0</td>\n",
       "    </tr>\n",
       "    <tr>\n",
       "      <th>1</th>\n",
       "      <td>1</td>\n",
       "      <td>PAYMENT</td>\n",
       "      <td>1864.28</td>\n",
       "      <td>C1666544295</td>\n",
       "      <td>21249.0</td>\n",
       "      <td>19384.72</td>\n",
       "      <td>M2044282225</td>\n",
       "      <td>0.0</td>\n",
       "      <td>0.0</td>\n",
       "      <td>0</td>\n",
       "      <td>0</td>\n",
       "    </tr>\n",
       "    <tr>\n",
       "      <th>2</th>\n",
       "      <td>1</td>\n",
       "      <td>TRANSFER</td>\n",
       "      <td>181.00</td>\n",
       "      <td>C1305486145</td>\n",
       "      <td>181.0</td>\n",
       "      <td>0.00</td>\n",
       "      <td>C553264065</td>\n",
       "      <td>0.0</td>\n",
       "      <td>0.0</td>\n",
       "      <td>1</td>\n",
       "      <td>0</td>\n",
       "    </tr>\n",
       "    <tr>\n",
       "      <th>3</th>\n",
       "      <td>1</td>\n",
       "      <td>CASH_OUT</td>\n",
       "      <td>181.00</td>\n",
       "      <td>C840083671</td>\n",
       "      <td>181.0</td>\n",
       "      <td>0.00</td>\n",
       "      <td>C38997010</td>\n",
       "      <td>21182.0</td>\n",
       "      <td>0.0</td>\n",
       "      <td>1</td>\n",
       "      <td>0</td>\n",
       "    </tr>\n",
       "    <tr>\n",
       "      <th>4</th>\n",
       "      <td>1</td>\n",
       "      <td>PAYMENT</td>\n",
       "      <td>11668.14</td>\n",
       "      <td>C2048537720</td>\n",
       "      <td>41554.0</td>\n",
       "      <td>29885.86</td>\n",
       "      <td>M1230701703</td>\n",
       "      <td>0.0</td>\n",
       "      <td>0.0</td>\n",
       "      <td>0</td>\n",
       "      <td>0</td>\n",
       "    </tr>\n",
       "  </tbody>\n",
       "</table>\n",
       "</div>"
      ],
      "text/plain": [
       "   step      type    amount     name_org  old_balance_org  new_balance_org  \\\n",
       "0     1   PAYMENT   9839.64  C1231006815         170136.0        160296.36   \n",
       "1     1   PAYMENT   1864.28  C1666544295          21249.0         19384.72   \n",
       "2     1  TRANSFER    181.00  C1305486145            181.0             0.00   \n",
       "3     1  CASH_OUT    181.00   C840083671            181.0             0.00   \n",
       "4     1   PAYMENT  11668.14  C2048537720          41554.0         29885.86   \n",
       "\n",
       "     name_dest  old_balance_dest  new_balance_dest  is_fraud  is_flagged_fraud  \n",
       "0  M1979787155               0.0               0.0         0                 0  \n",
       "1  M2044282225               0.0               0.0         0                 0  \n",
       "2   C553264065               0.0               0.0         1                 0  \n",
       "3    C38997010           21182.0               0.0         1                 0  \n",
       "4  M1230701703               0.0               0.0         0                 0  "
      ]
     },
     "execution_count": 4,
     "metadata": {},
     "output_type": "execute_result"
    }
   ],
   "source": [
    "# Renaming the columns and viewing the data\n",
    "\n",
    "data = data.rename(mapper={'nameOrig': 'name_org', 'oldbalanceOrg': 'old_balance_org', 'newbalanceOrig': 'new_balance_org', 'nameDest': 'name_dest', 'oldbalanceDest': 'old_balance_dest', 'newbalanceDest': 'new_balance_dest',\n",
    "                   'isFraud': 'is_fraud', 'isFlaggedFraud': 'is_flagged_fraud'}, axis=1)\n",
    "\n",
    "data.head()"
   ]
  },
  {
   "cell_type": "code",
   "execution_count": 9,
   "metadata": {},
   "outputs": [
    {
     "data": {
      "text/plain": [
       "6362620"
      ]
     },
     "execution_count": 9,
     "metadata": {},
     "output_type": "execute_result"
    }
   ],
   "source": [
    "# Checking size of data\n",
    "\n",
    "data.shape[0]"
   ]
  },
  {
   "cell_type": "code",
   "execution_count": 21,
   "metadata": {},
   "outputs": [
    {
     "name": "stdout",
     "output_type": "stream",
     "text": [
      "0    6354407\n",
      "1       8213\n",
      "Name: is_fraud, dtype: int64\n",
      "\n",
      "Percentage of class 1 points: 0.13\n"
     ]
    }
   ],
   "source": [
    "# Checking distribution of classes\n",
    "\n",
    "print(data['is_fraud'].value_counts())\n",
    "\n",
    "print(f\"\\nPercentage of class 1 points: {round(data['is_fraud'].value_counts().get(1) / data.shape[0] * 100, 2)}\")"
   ]
  },
  {
   "cell_type": "markdown",
   "metadata": {},
   "source": [
    "#### Observations:\n",
    "* There are over 6 million data points\n",
    "* The data is severely imbalanced with class 1 points (fraud) having only 0.13% representation\n",
    "* Using something like accuracy will be misleading and thus something like precision/recall will be more beneficial"
   ]
  },
  {
   "cell_type": "markdown",
   "metadata": {},
   "source": [
    "## Description of the features\n",
    "\n",
    "<b>step</b> - maps a unit of time in the real world. In this case 1 step is 1 hour of time. Total steps 744 (30 days simulation).\n",
    "\n",
    "<b>type</b> - CASH-IN, CASH-OUT, DEBIT, PAYMENT and TRANSFER.\n",
    "\n",
    "<b>amount</b> -\n",
    "amount of the transaction in local currency.\n",
    "\n",
    "<b>nameOrig</b> - customer who started the transaction\n",
    "\n",
    "<b>oldbalanceOrg</b> - initial balance before the transaction\n",
    "\n",
    "<b>newbalanceOrig</b> - new balance after the transaction\n",
    "\n",
    "<b>nameDest</b> - customer who is the recipient of the transaction\n",
    "\n",
    "<b>oldbalanceDest</b> - initial balance recipient before the transaction. Note that there is not information for customers that start with M (Merchants).\n",
    "\n",
    "<b>newbalanceDest</b> - new balance recipient after the transaction. Note that there is not information for customers that start with M (Merchants).\n",
    "\n",
    "<b>isFraud</b> - This is the transactions made by the fraudulent agents inside the simulation. In this specific dataset the fraudulent behavior of the agents aims to profit by taking control or customers accounts and try to empty the funds by transferring to another account and then cashing out of the system.\n",
    "\n",
    "<b>isFlaggedFraud</b> - The business model aims to control massive transfers from one account to another and flags illegal attempts. An illegal attempt in this dataset is an attempt to transfer more than 200.000 in a single transaction."
   ]
  },
  {
   "cell_type": "code",
   "execution_count": 23,
   "metadata": {},
   "outputs": [
    {
     "data": {
      "text/plain": [
       "step                0\n",
       "type                0\n",
       "amount              0\n",
       "name_org            0\n",
       "old_balance_org     0\n",
       "new_balance_org     0\n",
       "name_dest           0\n",
       "old_balance_dest    0\n",
       "new_balance_dest    0\n",
       "is_fraud            0\n",
       "is_flagged_fraud    0\n",
       "dtype: int64"
      ]
     },
     "execution_count": 23,
     "metadata": {},
     "output_type": "execute_result"
    }
   ],
   "source": [
    "# Checking for missing data\n",
    "\n",
    "data.isna().sum()"
   ]
  },
  {
   "cell_type": "markdown",
   "metadata": {},
   "source": [
    "There is no missing data so thats one good thing"
   ]
  },
  {
   "cell_type": "markdown",
   "metadata": {},
   "source": [
    "# Exploratory Data Analysis"
   ]
  },
  {
   "cell_type": "code",
   "execution_count": 5,
   "metadata": {},
   "outputs": [],
   "source": [
    "# Extracting the fraud data separately\n",
    "\n",
    "fraud_data = data[data['is_fraud'] == 1]\n",
    "not_fraud_data = data[data['is_fraud'] == 0]"
   ]
  },
  {
   "cell_type": "markdown",
   "metadata": {},
   "source": [
    "#### Distribution of 'is_fraud' "
   ]
  },
  {
   "cell_type": "code",
   "execution_count": 149,
   "metadata": {},
   "outputs": [
    {
     "data": {
      "image/png": "[encoded data removed]",
      "text/plain": [
       "<Figure size 576x360 with 1 Axes>"
      ]
     },
     "metadata": {},
     "output_type": "display_data"
    }
   ],
   "source": [
    "# Here, 0 --> Not Fraud \n",
    "#       1 --> Fraud Transaction\n",
    "\n",
    "plt.figure(figsize=(8,5))\n",
    "plt.title(\"Distribution of class labels\")\n",
    "sns.countplot(data['is_fraud']);"
   ]
  },
  {
   "cell_type": "markdown",
   "metadata": {},
   "source": [
    "The class imbalance is very evident"
   ]
  },
  {
   "cell_type": "markdown",
   "metadata": {},
   "source": [
    "#### Distribution of the feaure 'type'"
   ]
  },
  {
   "cell_type": "code",
   "execution_count": 150,
   "metadata": {},
   "outputs": [
    {
     "data": {
      "image/png": "[encoded data removed]",
      "text/plain": [
       "<Figure size 576x360 with 1 Axes>"
      ]
     },
     "metadata": {},
     "output_type": "display_data"
    }
   ],
   "source": [
    "plt.figure(figsize=(8,5))\n",
    "plt.title(\"Count plot for 'type'\")\n",
    "sns.countplot(data['type'], order=data['type'].value_counts().index);"
   ]
  },
  {
   "cell_type": "code",
   "execution_count": 151,
   "metadata": {},
   "outputs": [
    {
     "data": {
      "text/plain": [
       "CASH_OUT    0.351663\n",
       "PAYMENT     0.338146\n",
       "CASH_IN     0.219923\n",
       "TRANSFER    0.083756\n",
       "DEBIT       0.006512\n",
       "Name: type, dtype: float64"
      ]
     },
     "execution_count": 151,
     "metadata": {},
     "output_type": "execute_result"
    }
   ],
   "source": [
    "# Checking the value_counts\n",
    "\n",
    "data['type'].value_counts(normalize=True)"
   ]
  },
  {
   "cell_type": "code",
   "execution_count": 152,
   "metadata": {},
   "outputs": [
    {
     "data": {
      "image/png": "[encoded data removed]",
      "text/plain": [
       "<Figure size 576x360 with 1 Axes>"
      ]
     },
     "metadata": {},
     "output_type": "display_data"
    }
   ],
   "source": [
    "# Checking distribution of transaction types for fraudulent data\n",
    "\n",
    "plt.figure(figsize=(8,5))\n",
    "plt.title(\"Count plot for 'type' for fraud points\")\n",
    "sns.countplot(fraud_data['type']);"
   ]
  },
  {
   "cell_type": "markdown",
   "metadata": {},
   "source": [
    "#### Observation:\n",
    "* The 'type' feature has 5 features: Payment, Transfer, Cash Out, Debit and Cash In. This refers to the type of transaction that was made\n",
    "* Payment (33%), Cash-Out (35%) and Cash-In (22%) are the most common methods of transaction and make up for almost 90% of the transactions that were made\n",
    "* Transfer (8.3%) and Debit (0.6%) make up for the remaining transactions. The number of transactions by debit are very few in comparision to other modes of trasactions (about 41,432)\n",
    "* Also most importantly, in the data thats given, all fraud transactions only occur in 'Transfer' and 'Cash-Out' transaction types"
   ]
  },
  {
   "cell_type": "markdown",
   "metadata": {},
   "source": [
    "#### Analyzing 'Amount'"
   ]
  },
  {
   "cell_type": "code",
   "execution_count": 153,
   "metadata": {},
   "outputs": [
    {
     "data": {
      "text/plain": [
       "count    6.362620e+06\n",
       "mean     1.798619e+05\n",
       "std      6.038582e+05\n",
       "min      0.000000e+00\n",
       "25%      1.338957e+04\n",
       "50%      7.487194e+04\n",
       "75%      2.087215e+05\n",
       "max      9.244552e+07\n",
       "Name: amount, dtype: float64"
      ]
     },
     "execution_count": 153,
     "metadata": {},
     "output_type": "execute_result"
    }
   ],
   "source": [
    "(data['amount']).describe()"
   ]
  },
  {
   "cell_type": "code",
   "execution_count": 154,
   "metadata": {},
   "outputs": [
    {
     "data": {
      "image/png": "[encoded data removed]",
      "text/plain": [
       "<Figure size 576x360 with 1 Axes>"
      ]
     },
     "metadata": {},
     "output_type": "display_data"
    }
   ],
   "source": [
    "plt.figure(figsize=(8,5))\n",
    "sns.kdeplot(data=data, x='amount')\n",
    "plt.title('Distribution of Amount');"
   ]
  },
  {
   "cell_type": "markdown",
   "metadata": {},
   "source": [
    "* The distribution for amount is very skewed. Thus median would give us a better idea over mean"
   ]
  },
  {
   "cell_type": "code",
   "execution_count": 155,
   "metadata": {},
   "outputs": [
    {
     "data": {
      "image/png": "[encoded data removed]",
      "text/plain": [
       "<Figure size 576x360 with 1 Axes>"
      ]
     },
     "metadata": {},
     "output_type": "display_data"
    }
   ],
   "source": [
    "plt.figure(figsize=(8,5))\n",
    "sns.kdeplot(data=not_fraud_data, x='amount', label='Not fraud')\n",
    "sns.kdeplot(data=fraud_data, x='amount', label='Fraud')\n",
    "plt.xlim(0,25000000) # Only checking uptil 25 million\n",
    "plt.legend()\n",
    "plt.title('Distribution of Amount for fraudulent vs Non-Fraudulent points')\n",
    "plt.show()"
   ]
  },
  {
   "cell_type": "code",
   "execution_count": 156,
   "metadata": {},
   "outputs": [
    {
     "name": "stdout",
     "output_type": "stream",
     "text": [
      "Median Amount for the Fraud points: 441423.44\n",
      "Median Amount for the Non-Fraud points: 74684.72\n"
     ]
    }
   ],
   "source": [
    "# Comparing medians of the fraud points with median of the not fraud points\n",
    "\n",
    "print(f\"Median Amount for the Fraud points: {fraud_data['amount'].median()}\")\n",
    "print(f\"Median Amount for the Non-Fraud points: {not_fraud_data['amount'].median()}\")"
   ]
  },
  {
   "cell_type": "code",
   "execution_count": 157,
   "metadata": {},
   "outputs": [
    {
     "data": {
      "image/png": "[encoded data removed]",
      "text/plain": [
       "<Figure size 576x360 with 1 Axes>"
      ]
     },
     "metadata": {},
     "output_type": "display_data"
    }
   ],
   "source": [
    "plt.figure(figsize=(8,5))\n",
    "sns.boxplot(x='is_fraud', y='amount', data=data)\n",
    "plt.ylim(0,5000000);  # Only seeing points bw the the range of 0 - 5 Million\n",
    "plt.title('BoxPlot for amount')\n",
    "plt.show()"
   ]
  },
  {
   "cell_type": "markdown",
   "metadata": {},
   "source": [
    "#### Observations:\n",
    "* From the distributions, its clear that Amount is extremely right skewed\n",
    "* The median amount of a Non-Fraudulent transaction is 74,684 whereas for a Fraudulent transaction, it is 441,423\n",
    "* This means that a typical Fraudulent transaction is likely to be 6 times larger than a Non-Fraudulent Transaction"
   ]
  },
  {
   "cell_type": "code",
   "execution_count": 158,
   "metadata": {},
   "outputs": [
    {
     "name": "stdout",
     "output_type": "stream",
     "text": [
      "The 90th percentile for Amount is 365423.31\n",
      "The 91th percentile for Amount is 384851.54\n",
      "The 92th percentile for Amount is 407811.53\n",
      "The 93th percentile for Amount is 435529.14\n",
      "The 94th percentile for Amount is 470779.97\n",
      "The 95th percentile for Amount is 518634.2\n",
      "The 96th percentile for Amount is 594003.1\n",
      "The 97th percentile for Amount is 736427.07\n",
      "The 98th percentile for Amount is 1019957.81\n",
      "The 99th percentile for Amount is 1615979.47\n",
      "The 100th percentile for Amount is 92445516.64\n"
     ]
    }
   ],
   "source": [
    "# Checking the 90-100th percentiles\n",
    "\n",
    "percentiles = np.arange(90,101)\n",
    "for p in percentiles:\n",
    "    percentile = round(np.percentile(data['amount'], p), 2)\n",
    "    print(f\"The {p}th percentile for Amount is {percentile}\")"
   ]
  },
  {
   "cell_type": "code",
   "execution_count": 159,
   "metadata": {},
   "outputs": [
    {
     "name": "stdout",
     "output_type": "stream",
     "text": [
      "The 99.0th percentile for Amount is 1615979.47\n",
      "The 99.1th percentile for Amount is 1723310.59\n",
      "The 99.2th percentile for Amount is 1850371.65\n",
      "The 99.3th percentile for Amount is 2002969.79\n",
      "The 99.4th percentile for Amount is 2189824.12\n",
      "The 99.5th percentile for Amount is 2437745.64\n",
      "The 99.6th percentile for Amount is 2793682.59\n",
      "The 99.7th percentile for Amount is 3365559.25\n",
      "The 99.8th percentile for Amount is 4566795.32\n",
      "The 99.9th percentile for Amount is 8956797.68\n",
      "The 100.0th percentile for Amount is 92445516.64\n",
      "\n"
     ]
    }
   ],
   "source": [
    "# Expanding the 99-100 percentile region\n",
    "\n",
    "percentiles = np.arange(990,1001)/10\n",
    "for p in percentiles:\n",
    "    percentile = round(np.percentile(data['amount'], p), 2)\n",
    "    print(f\"The {p}th percentile for Amount is {percentile}\")\n",
    "print()  # Blank space"
   ]
  },
  {
   "cell_type": "markdown",
   "metadata": {},
   "source": [
    "* It looks like 99.9% of Amount lies below $9 million"
   ]
  },
  {
   "cell_type": "code",
   "execution_count": 160,
   "metadata": {},
   "outputs": [
    {
     "data": {
      "image/png": "[encoded data removed]",
      "text/plain": [
       "<Figure size 576x360 with 1 Axes>"
      ]
     },
     "metadata": {},
     "output_type": "display_data"
    }
   ],
   "source": [
    "# Cumulative plot for Amount\n",
    "\n",
    "plt.figure(figsize=(8,5))\n",
    "sns.kdeplot(data=data, x='amount', cumulative=True)\n",
    "plt.xlim(0,10000000)  # Checking only upto 10 million dollars\n",
    "plt.xlabel('Amount in 10 Million')\n",
    "plt.title('Cumulative plot of Amount');"
   ]
  },
  {
   "cell_type": "markdown",
   "metadata": {},
   "source": [
    "* Expaning on previous analysis, the cumulative plot confirms that only 0.1% datapoints lie above 9 million USD\n",
    "* Similarly, only 5% datapoints have amount greater than 500,000 USD or 0.5 million USD"
   ]
  },
  {
   "cell_type": "code",
   "execution_count": 6,
   "metadata": {},
   "outputs": [
    {
     "name": "stdout",
     "output_type": "stream",
     "text": [
      "0.11226171056925069\n"
     ]
    },
    {
     "data": {
      "image/png": "[encoded data removed]",
      "text/plain": [
       "<Figure size 576x360 with 1 Axes>"
      ]
     },
     "metadata": {},
     "output_type": "display_data"
    }
   ],
   "source": [
    "transformed_amount, lmbda = sp.stats.boxcox(data['amount']+0.1)\n",
    "\n",
    "plt.figure(figsize=(8,5))\n",
    "sns.kdeplot(transformed_amount)\n",
    "plt.title('Distribution of Box-cox Transformed Amount');\n",
    "\n",
    "print(lmbda)"
   ]
  },
  {
   "cell_type": "code",
   "execution_count": 7,
   "metadata": {},
   "outputs": [
    {
     "data": {
      "image/png": "[encoded data removed]",
      "text/plain": [
       "<Figure size 576x360 with 1 Axes>"
      ]
     },
     "metadata": {},
     "output_type": "display_data"
    }
   ],
   "source": [
    "data['box_cox_amount'] = transformed_amount\n",
    "\n",
    "plt.figure(figsize=(8,5))\n",
    "sns.kdeplot(data[data['is_fraud']==1]['box_cox_amount'], label='Fraud')\n",
    "sns.kdeplot(data[data['is_fraud']==0]['box_cox_amount'], label='Not Fraud')\n",
    "plt.title('Distribution of Box-cox Transformed Amount')\n",
    "plt.legend();"
   ]
  },
  {
   "cell_type": "markdown",
   "metadata": {},
   "source": [
    "#### Exploring name origin (name_org) and name destination (name_dest)\n",
    "name_org feature is the name/identity of the customer who started the transaction and name_dest feature is the identity of the customer to whom the fund was transacted"
   ]
  },
  {
   "cell_type": "code",
   "execution_count": 8,
   "metadata": {},
   "outputs": [
    {
     "data": {
      "text/plain": [
       "6353307"
      ]
     },
     "execution_count": 8,
     "metadata": {},
     "output_type": "execute_result"
    }
   ],
   "source": [
    "# Checking the number of unique values in name_org\n",
    "\n",
    "data['name_org'].nunique()"
   ]
  },
  {
   "cell_type": "code",
   "execution_count": 9,
   "metadata": {},
   "outputs": [
    {
     "data": {
      "text/plain": [
       "2722362"
      ]
     },
     "execution_count": 9,
     "metadata": {},
     "output_type": "execute_result"
    }
   ],
   "source": [
    "# Checking the number of unique values in name_org\n",
    "\n",
    "data['name_dest'].nunique()"
   ]
  },
  {
   "cell_type": "code",
   "execution_count": 10,
   "metadata": {},
   "outputs": [
    {
     "name": "stdout",
     "output_type": "stream",
     "text": [
      "Percentage of Unique Users (Origin):      99.85\n",
      "Percentage of Unique Users (Destination): 42.79\n"
     ]
    }
   ],
   "source": [
    "print(f\"Percentage of Unique Users (Origin):      {round(6353307/data.shape[0] * 100,2)}\")\n",
    "print(f\"Percentage of Unique Users (Destination): {round(2722362/data.shape[0] * 100,2)}\")"
   ]
  },
  {
   "cell_type": "code",
   "execution_count": 11,
   "metadata": {},
   "outputs": [
    {
     "name": "stdout",
     "output_type": "stream",
     "text": [
      "Unique first letters in Name-Origin: ['C']\n",
      "Unique first letters in Name-Destination: ['M' 'C']\n"
     ]
    }
   ],
   "source": [
    "# Since it'll be hard to featurize these two features as they have way too many unique values, one thing that can be tried is to use the first letter of these IDs\n",
    "\n",
    "print(f\"Unique first letters in Name-Origin: {data['name_org'].apply(lambda x: x[0]).unique()}\")\n",
    "print(f\"Unique first letters in Name-Destination: {data['name_dest'].apply(lambda x: x[0]).unique()}\")"
   ]
  },
  {
   "cell_type": "markdown",
   "metadata": {},
   "source": [
    "#### Observation:\n",
    "* For name-origin, the first letters for all IDs is 'C' whereas for name-destination, there are 2 unique letters: 'C' and 'M'\n",
    "* Since there are way too unique name-origins, its better to drop the feature. We can extract the first letter from name-destination and drop the original feature itself"
   ]
  },
  {
   "cell_type": "code",
   "execution_count": 12,
   "metadata": {},
   "outputs": [
    {
     "data": {
      "text/plain": [
       "C    0.661854\n",
       "M    0.338146\n",
       "Name: name_dest, dtype: float64"
      ]
     },
     "execution_count": 12,
     "metadata": {},
     "output_type": "execute_result"
    }
   ],
   "source": [
    "# Checking how the new feature is distributed in the entire data\n",
    "\n",
    "data['name_dest'].apply(lambda x: x[0]).value_counts(normalize=True)"
   ]
  },
  {
   "cell_type": "code",
   "execution_count": 13,
   "metadata": {},
   "outputs": [
    {
     "data": {
      "text/plain": [
       "C    1.0\n",
       "Name: name_dest, dtype: float64"
      ]
     },
     "execution_count": 13,
     "metadata": {},
     "output_type": "execute_result"
    }
   ],
   "source": [
    "# Checking how the new feature is distributed for only the fraudulent data\n",
    "\n",
    "fraud_data['name_dest'].apply(lambda x: x[0]).value_counts(normalize=True)"
   ]
  },
  {
   "cell_type": "markdown",
   "metadata": {},
   "source": [
    "#### Observation\n",
    "* In the data, name destination with starting letter 'C' occurs 66% times and starting with 'M' occurs 33% times\n",
    "* Whereas for the fraudulent data, all points lead to destinations starting with the letter 'C'"
   ]
  },
  {
   "cell_type": "code",
   "execution_count": 14,
   "metadata": {},
   "outputs": [],
   "source": [
    "# Dropping the name_dest and name_org and replacing name_dest with the new feature containing the first letter only\n",
    "\n",
    "data['name_dest'] = data['name_dest'].apply(lambda x: x[0])  # Replaces the entire name of the destination with only the first letter\n",
    "data.drop('name_org', axis=1, inplace=True)  # Dropping name_org"
   ]
  },
  {
   "cell_type": "code",
   "execution_count": 17,
   "metadata": {},
   "outputs": [
    {
     "data": {
      "text/html": [
       "<div>\n",
       "<style scoped>\n",
       "    .dataframe tbody tr th:only-of-type {\n",
       "        vertical-align: middle;\n",
       "    }\n",
       "\n",
       "    .dataframe tbody tr th {\n",
       "        vertical-align: top;\n",
       "    }\n",
       "\n",
       "    .dataframe thead th {\n",
       "        text-align: right;\n",
       "    }\n",
       "</style>\n",
       "<table border=\"1\" class=\"dataframe\">\n",
       "  <thead>\n",
       "    <tr style=\"text-align: right;\">\n",
       "      <th></th>\n",
       "      <th>step</th>\n",
       "      <th>type</th>\n",
       "      <th>amount</th>\n",
       "      <th>old_balance_org</th>\n",
       "      <th>new_balance_org</th>\n",
       "      <th>name_dest</th>\n",
       "      <th>old_balance_dest</th>\n",
       "      <th>new_balance_dest</th>\n",
       "      <th>is_fraud</th>\n",
       "      <th>is_flagged_fraud</th>\n",
       "      <th>box_cox_amount</th>\n",
       "    </tr>\n",
       "  </thead>\n",
       "  <tbody>\n",
       "    <tr>\n",
       "      <th>0</th>\n",
       "      <td>1</td>\n",
       "      <td>PAYMENT</td>\n",
       "      <td>9839.64</td>\n",
       "      <td>170136.0</td>\n",
       "      <td>160296.36</td>\n",
       "      <td>M</td>\n",
       "      <td>0.0</td>\n",
       "      <td>0.0</td>\n",
       "      <td>0</td>\n",
       "      <td>0</td>\n",
       "      <td>16.097281</td>\n",
       "    </tr>\n",
       "    <tr>\n",
       "      <th>1</th>\n",
       "      <td>1</td>\n",
       "      <td>PAYMENT</td>\n",
       "      <td>1864.28</td>\n",
       "      <td>21249.0</td>\n",
       "      <td>19384.72</td>\n",
       "      <td>M</td>\n",
       "      <td>0.0</td>\n",
       "      <td>0.0</td>\n",
       "      <td>0</td>\n",
       "      <td>0</td>\n",
       "      <td>11.837754</td>\n",
       "    </tr>\n",
       "    <tr>\n",
       "      <th>2</th>\n",
       "      <td>1</td>\n",
       "      <td>TRANSFER</td>\n",
       "      <td>181.00</td>\n",
       "      <td>181.0</td>\n",
       "      <td>0.00</td>\n",
       "      <td>C</td>\n",
       "      <td>0.0</td>\n",
       "      <td>0.0</td>\n",
       "      <td>1</td>\n",
       "      <td>0</td>\n",
       "      <td>7.060082</td>\n",
       "    </tr>\n",
       "    <tr>\n",
       "      <th>3</th>\n",
       "      <td>1</td>\n",
       "      <td>CASH_OUT</td>\n",
       "      <td>181.00</td>\n",
       "      <td>181.0</td>\n",
       "      <td>0.00</td>\n",
       "      <td>C</td>\n",
       "      <td>21182.0</td>\n",
       "      <td>0.0</td>\n",
       "      <td>1</td>\n",
       "      <td>0</td>\n",
       "      <td>7.060082</td>\n",
       "    </tr>\n",
       "    <tr>\n",
       "      <th>4</th>\n",
       "      <td>1</td>\n",
       "      <td>PAYMENT</td>\n",
       "      <td>11668.14</td>\n",
       "      <td>41554.0</td>\n",
       "      <td>29885.86</td>\n",
       "      <td>M</td>\n",
       "      <td>0.0</td>\n",
       "      <td>0.0</td>\n",
       "      <td>0</td>\n",
       "      <td>0</td>\n",
       "      <td>16.580335</td>\n",
       "    </tr>\n",
       "  </tbody>\n",
       "</table>\n",
       "</div>"
      ],
      "text/plain": [
       "   step      type    amount  old_balance_org  new_balance_org name_dest  \\\n",
       "0     1   PAYMENT   9839.64         170136.0        160296.36         M   \n",
       "1     1   PAYMENT   1864.28          21249.0         19384.72         M   \n",
       "2     1  TRANSFER    181.00            181.0             0.00         C   \n",
       "3     1  CASH_OUT    181.00            181.0             0.00         C   \n",
       "4     1   PAYMENT  11668.14          41554.0         29885.86         M   \n",
       "\n",
       "   old_balance_dest  new_balance_dest  is_fraud  is_flagged_fraud  \\\n",
       "0               0.0               0.0         0                 0   \n",
       "1               0.0               0.0         0                 0   \n",
       "2               0.0               0.0         1                 0   \n",
       "3           21182.0               0.0         1                 0   \n",
       "4               0.0               0.0         0                 0   \n",
       "\n",
       "   box_cox_amount  \n",
       "0       16.097281  \n",
       "1       11.837754  \n",
       "2        7.060082  \n",
       "3        7.060082  \n",
       "4       16.580335  "
      ]
     },
     "execution_count": 17,
     "metadata": {},
     "output_type": "execute_result"
    }
   ],
   "source": [
    "data.head()"
   ]
  },
  {
   "cell_type": "markdown",
   "metadata": {},
   "source": [
    "#### Analyzing old_balance_org and new_balance_org\n",
    "\n",
    "Since 'amount' represents the transaction value, it should mean that the difference between old_balance_org and new_balance_org should be the same"
   ]
  },
  {
   "cell_type": "code",
   "execution_count": 46,
   "metadata": {},
   "outputs": [],
   "source": [
    "# Calculating absolute difference in the old and new balance for the origin\n",
    "\n",
    "diff = abs(data['old_balance_org'] - data['new_balance_org'])"
   ]
  },
  {
   "cell_type": "code",
   "execution_count": 47,
   "metadata": {},
   "outputs": [
    {
     "name": "stdout",
     "output_type": "stream",
     "text": [
      "Amount is not equal to absolute difference bw old and new balance for 85.4% points\n",
      "\n"
     ]
    }
   ],
   "source": [
    "print(f\"Amount is not equal to absolute difference bw old and new balance for {round((diff!= data['amount']).sum() / data.shape[0] *100, 2)}% points\\n\")"
   ]
  },
  {
   "cell_type": "markdown",
   "metadata": {},
   "source": [
    "#### Observation:\n",
    "* The value in amount differs for over 93% points\n",
    "* One feature that can be used is this difference between the actual amount and the absolute difference bw old and the new balance"
   ]
  },
  {
   "cell_type": "code",
   "execution_count": 49,
   "metadata": {},
   "outputs": [
    {
     "data": {
      "text/plain": [
       "count    6.362620e+06\n",
       "mean     2.753890e+05\n",
       "std      6.709391e+05\n",
       "min     -1.000000e-02\n",
       "25%      3.000557e+03\n",
       "50%      7.755063e+04\n",
       "75%      3.151444e+05\n",
       "max      9.244552e+07\n",
       "Name: amount_diff, dtype: float64"
      ]
     },
     "execution_count": 49,
     "metadata": {},
     "output_type": "execute_result"
    }
   ],
   "source": [
    "data['amount_diff'] = diff - data['amount_diff']\n",
    "data['amount_diff'].describe()"
   ]
  },
  {
   "cell_type": "code",
   "execution_count": 51,
   "metadata": {},
   "outputs": [
    {
     "data": {
      "text/plain": [
       "0   -1.455192e-11\n",
       "1    1.136868e-12\n",
       "2    0.000000e+00\n",
       "3    0.000000e+00\n",
       "4    0.000000e+00\n",
       "Name: amount_diff, dtype: float64"
      ]
     },
     "execution_count": 51,
     "metadata": {},
     "output_type": "execute_result"
    }
   ],
   "source": [
    "data['amount_diff'].head()"
   ]
  },
  {
   "cell_type": "markdown",
   "metadata": {},
   "source": [
    "## Feature Engineering based on observations\n"
   ]
  },
  {
   "cell_type": "code",
   "execution_count": 57,
   "metadata": {},
   "outputs": [],
   "source": [
    "data['name_dest_M_flag'] = data['name_dest'].apply(lambda x: 1 if x == 'M' else 0)\n",
    "data['name_dest_C_flag'] = data['name_dest'].apply(lambda x: 1 if x == 'C' else 0)\n",
    "\n",
    "# Since the type for fraudulent data is only transfer or cash out\n",
    "data['transfer_flag'] = data['type'].apply(lambda x: 1 if x == 'TRANSFER' else 0)\n",
    "data['cash_out_flag'] = data['type'].apply(lambda x: 1 if x == 'CASH_OUT' else 0)\n",
    "\n",
    "data = data.drop(['type', 'step', 'name_dest', 'is_flagged_fraud', 'box_cox_amount'] ,axis=1)"
   ]
  },
  {
   "cell_type": "code",
   "execution_count": 58,
   "metadata": {},
   "outputs": [
    {
     "data": {
      "text/html": [
       "<div>\n",
       "<style scoped>\n",
       "    .dataframe tbody tr th:only-of-type {\n",
       "        vertical-align: middle;\n",
       "    }\n",
       "\n",
       "    .dataframe tbody tr th {\n",
       "        vertical-align: top;\n",
       "    }\n",
       "\n",
       "    .dataframe thead th {\n",
       "        text-align: right;\n",
       "    }\n",
       "</style>\n",
       "<table border=\"1\" class=\"dataframe\">\n",
       "  <thead>\n",
       "    <tr style=\"text-align: right;\">\n",
       "      <th></th>\n",
       "      <th>amount</th>\n",
       "      <th>old_balance_org</th>\n",
       "      <th>new_balance_org</th>\n",
       "      <th>old_balance_dest</th>\n",
       "      <th>new_balance_dest</th>\n",
       "      <th>is_fraud</th>\n",
       "      <th>amount_diff</th>\n",
       "      <th>name_dest_M_flag</th>\n",
       "      <th>name_dest_C_flag</th>\n",
       "      <th>transfer_flag</th>\n",
       "      <th>cash_out_flag</th>\n",
       "    </tr>\n",
       "  </thead>\n",
       "  <tbody>\n",
       "    <tr>\n",
       "      <th>0</th>\n",
       "      <td>9839.64</td>\n",
       "      <td>170136.0</td>\n",
       "      <td>160296.36</td>\n",
       "      <td>0.0</td>\n",
       "      <td>0.0</td>\n",
       "      <td>0</td>\n",
       "      <td>-1.455192e-11</td>\n",
       "      <td>1</td>\n",
       "      <td>0</td>\n",
       "      <td>0</td>\n",
       "      <td>0</td>\n",
       "    </tr>\n",
       "    <tr>\n",
       "      <th>1</th>\n",
       "      <td>1864.28</td>\n",
       "      <td>21249.0</td>\n",
       "      <td>19384.72</td>\n",
       "      <td>0.0</td>\n",
       "      <td>0.0</td>\n",
       "      <td>0</td>\n",
       "      <td>1.136868e-12</td>\n",
       "      <td>1</td>\n",
       "      <td>0</td>\n",
       "      <td>0</td>\n",
       "      <td>0</td>\n",
       "    </tr>\n",
       "    <tr>\n",
       "      <th>2</th>\n",
       "      <td>181.00</td>\n",
       "      <td>181.0</td>\n",
       "      <td>0.00</td>\n",
       "      <td>0.0</td>\n",
       "      <td>0.0</td>\n",
       "      <td>1</td>\n",
       "      <td>0.000000e+00</td>\n",
       "      <td>0</td>\n",
       "      <td>1</td>\n",
       "      <td>1</td>\n",
       "      <td>0</td>\n",
       "    </tr>\n",
       "    <tr>\n",
       "      <th>3</th>\n",
       "      <td>181.00</td>\n",
       "      <td>181.0</td>\n",
       "      <td>0.00</td>\n",
       "      <td>21182.0</td>\n",
       "      <td>0.0</td>\n",
       "      <td>1</td>\n",
       "      <td>0.000000e+00</td>\n",
       "      <td>0</td>\n",
       "      <td>1</td>\n",
       "      <td>0</td>\n",
       "      <td>1</td>\n",
       "    </tr>\n",
       "    <tr>\n",
       "      <th>4</th>\n",
       "      <td>11668.14</td>\n",
       "      <td>41554.0</td>\n",
       "      <td>29885.86</td>\n",
       "      <td>0.0</td>\n",
       "      <td>0.0</td>\n",
       "      <td>0</td>\n",
       "      <td>0.000000e+00</td>\n",
       "      <td>1</td>\n",
       "      <td>0</td>\n",
       "      <td>0</td>\n",
       "      <td>0</td>\n",
       "    </tr>\n",
       "  </tbody>\n",
       "</table>\n",
       "</div>"
      ],
      "text/plain": [
       "     amount  old_balance_org  new_balance_org  old_balance_dest  \\\n",
       "0   9839.64         170136.0        160296.36               0.0   \n",
       "1   1864.28          21249.0         19384.72               0.0   \n",
       "2    181.00            181.0             0.00               0.0   \n",
       "3    181.00            181.0             0.00           21182.0   \n",
       "4  11668.14          41554.0         29885.86               0.0   \n",
       "\n",
       "   new_balance_dest  is_fraud   amount_diff  name_dest_M_flag  \\\n",
       "0               0.0         0 -1.455192e-11                 1   \n",
       "1               0.0         0  1.136868e-12                 1   \n",
       "2               0.0         1  0.000000e+00                 0   \n",
       "3               0.0         1  0.000000e+00                 0   \n",
       "4               0.0         0  0.000000e+00                 1   \n",
       "\n",
       "   name_dest_C_flag  transfer_flag  cash_out_flag  \n",
       "0                 0              0              0  \n",
       "1                 0              0              0  \n",
       "2                 1              1              0  \n",
       "3                 1              0              1  \n",
       "4                 0              0              0  "
      ]
     },
     "execution_count": 58,
     "metadata": {},
     "output_type": "execute_result"
    }
   ],
   "source": [
    "data.head()"
   ]
  },
  {
   "cell_type": "code",
   "execution_count": null,
   "metadata": {},
   "outputs": [],
   "source": [
    "data.to_csv('new_data', index=False)"
   ]
  },
  {
   "cell_type": "code",
   "execution_count": 3,
   "metadata": {},
   "outputs": [],
   "source": [
    "data=pd.read_csv('new_data')"
   ]
  },
  {
   "cell_type": "markdown",
   "metadata": {},
   "source": [
    "## Splitting the dataset\n",
    "\n",
    "I'll try experimenting with 70:30 split"
   ]
  },
  {
   "cell_type": "code",
   "execution_count": 5,
   "metadata": {},
   "outputs": [],
   "source": [
    "X = data.drop('is_fraud', axis=1)\n",
    "y = data['is_fraud']\n",
    "\n",
    "X_train, X_test, y_train, y_test = train_test_split(X, y, test_size=0.3, random_state=42, stratify=y)"
   ]
  },
  {
   "cell_type": "code",
   "execution_count": 6,
   "metadata": {},
   "outputs": [
    {
     "name": "stdout",
     "output_type": "stream",
     "text": [
      "Number of fraudulent points in the Test set: 2464 out of 8213 points\n"
     ]
    }
   ],
   "source": [
    "print(f\"Number of fraudulent points in the Test set: {(y_test == 1).sum()} out of {(data['is_fraud']==1).sum()} points\")"
   ]
  },
  {
   "cell_type": "markdown",
   "metadata": {},
   "source": [
    "## Setting evaluation metrics"
   ]
  },
  {
   "cell_type": "markdown",
   "metadata": {},
   "source": [
    "## Modelling"
   ]
  },
  {
   "cell_type": "code",
   "execution_count": 25,
   "metadata": {},
   "outputs": [],
   "source": [
    "from sklearn.ensemble import RandomForestClassifier"
   ]
  },
  {
   "cell_type": "code",
   "execution_count": 26,
   "metadata": {},
   "outputs": [
    {
     "name": "stdout",
     "output_type": "stream",
     "text": [
      "Wall time: 2min 34s\n"
     ]
    },
    {
     "data": {
      "text/plain": [
       "RandomForestClassifier(n_jobs=6)"
      ]
     },
     "execution_count": 26,
     "metadata": {},
     "output_type": "execute_result"
    }
   ],
   "source": [
    "%%time \n",
    "\n",
    "# Training the model on the train data\n",
    "\n",
    "# Trying without balancing class weights\n",
    "clf = RandomForestClassifier(n_estimators=100, n_jobs=6)\n",
    "\n",
    "clf.fit(X_train, y_train)"
   ]
  },
  {
   "cell_type": "code",
   "execution_count": 43,
   "metadata": {},
   "outputs": [],
   "source": [
    "clf_pred_test = clf.predict(X_test)\n",
    "clf_pred_train = clf.predict(X_train)"
   ]
  },
  {
   "cell_type": "code",
   "execution_count": 28,
   "metadata": {},
   "outputs": [
    {
     "name": "stdout",
     "output_type": "stream",
     "text": [
      "Recall on train data: 1.0\n",
      "Recall on test data: 0.9963474025974026\n"
     ]
    }
   ],
   "source": [
    "# Recall on train data\n",
    "\n",
    "print(f\"Recall on train data: {recall_score(y_train, clf_pred_train)}\")\n",
    "print(f\"Recall on test data: {recall_score(y_test, clf_pred_test)}\")"
   ]
  },
  {
   "cell_type": "code",
   "execution_count": 44,
   "metadata": {},
   "outputs": [
    {
     "data": {
      "text/plain": [
       "array([[1906322,       0],\n",
       "       [      9,    2455]], dtype=int64)"
      ]
     },
     "execution_count": 44,
     "metadata": {},
     "output_type": "execute_result"
    }
   ],
   "source": [
    "# Confusion matrix for the training data\n",
    "\n",
    "confusion_matrix(y_test, clf_pred_test)"
   ]
  },
  {
   "cell_type": "code",
   "execution_count": 30,
   "metadata": {},
   "outputs": [
    {
     "data": {
      "text/plain": [
       "array([[4448085,       0],\n",
       "       [      0,    5749]], dtype=int64)"
      ]
     },
     "execution_count": 30,
     "metadata": {},
     "output_type": "execute_result"
    }
   ],
   "source": [
    "# Confusion matrix for the test data\n",
    "\n",
    "confusion_matrix(y_train, clf_pred_train)"
   ]
  },
  {
   "cell_type": "code",
   "execution_count": 46,
   "metadata": {},
   "outputs": [
    {
     "data": {
      "text/plain": [
       "Index(['amount', 'old_balance_org', 'new_balance_org', 'old_balance_dest',\n",
       "       'new_balance_dest', 'amount_diff', 'name_dest_M_flag',\n",
       "       'name_dest_C_flag', 'transfer_flag', 'cash_out_flag'],\n",
       "      dtype='object')"
      ]
     },
     "execution_count": 46,
     "metadata": {},
     "output_type": "execute_result"
    }
   ],
   "source": [
    "X_train.columns"
   ]
  },
  {
   "cell_type": "code",
   "execution_count": 45,
   "metadata": {},
   "outputs": [
    {
     "data": {
      "text/plain": [
       "array([0.08166994, 0.07659933, 0.41796923, 0.02334517, 0.12618502,\n",
       "       0.23293746, 0.00066418, 0.00131055, 0.02558468, 0.01373444])"
      ]
     },
     "execution_count": 45,
     "metadata": {},
     "output_type": "execute_result"
    }
   ],
   "source": [
    "clf.feature_importances_"
   ]
  },
  {
   "cell_type": "markdown",
   "metadata": {},
   "source": [
    "* From the analysis of the feature importance scores, we can say that the top 3 features that helped the most with detecting a fraud are as follows (in decreasing order of importance):<br>\n",
    "1. 'new_balance_org'\n",
    "2. 'amount_diff'\n",
    "3. 'new_balance_dest'\n"
   ]
  },
  {
   "cell_type": "code",
   "execution_count": 33,
   "metadata": {},
   "outputs": [
    {
     "name": "stdout",
     "output_type": "stream",
     "text": [
      "Wall time: 2min 19s\n"
     ]
    },
    {
     "data": {
      "text/plain": [
       "RandomForestClassifier(class_weight='balanced', n_jobs=6)"
      ]
     },
     "execution_count": 33,
     "metadata": {},
     "output_type": "execute_result"
    }
   ],
   "source": [
    "%%time \n",
    "\n",
    "# Training the model on the train data\n",
    "\n",
    "# Trying with balancing of class weights\n",
    "clf_balanced = RandomForestClassifier(n_estimators=100, n_jobs=6, class_weight='balanced')\n",
    "\n",
    "clf_balanced.fit(X_train, y_train)"
   ]
  },
  {
   "cell_type": "code",
   "execution_count": 34,
   "metadata": {},
   "outputs": [],
   "source": [
    "clf_pred_test_balanced = clf_balanced.predict(X_test)\n",
    "clf_pred_train_balanced = clf_balanced.predict(X_train)"
   ]
  },
  {
   "cell_type": "code",
   "execution_count": 35,
   "metadata": {},
   "outputs": [
    {
     "data": {
      "text/plain": [
       "array([[4448085,       0],\n",
       "       [      0,    5749]], dtype=int64)"
      ]
     },
     "execution_count": 35,
     "metadata": {},
     "output_type": "execute_result"
    }
   ],
   "source": [
    "# Confusion matrix for the training data\n",
    "\n",
    "confusion_matrix(y_train, clf_pred_train_balanced)"
   ]
  },
  {
   "cell_type": "code",
   "execution_count": 36,
   "metadata": {},
   "outputs": [
    {
     "data": {
      "text/plain": [
       "array([[1906322,       0],\n",
       "       [      9,    2455]], dtype=int64)"
      ]
     },
     "execution_count": 36,
     "metadata": {},
     "output_type": "execute_result"
    }
   ],
   "source": [
    "# Confusion matrix for the test data\n",
    "\n",
    "confusion_matrix(y_test, clf_pred_test_balanced)"
   ]
  },
  {
   "cell_type": "markdown",
   "metadata": {},
   "source": [
    "# Conclusion and takeaways\n",
    "* The challenge with the data revolved around the severe imbalance which was easily managaed by the Random Forest Classifier since tree based classifiers are robust to imabalance in the classes.\n",
    "* The priority was to obtain an optimum recall score and that was very well done with the help of a Random Forest Classifier and a bit of Exploratory Data Analysis.\n",
    "* Balancing the class weights doesn't have any impact on model performance.\n",
    "* To further understand the performance of the model, a k-fold score can be beneficial."
   ]
  },
  {
   "cell_type": "code",
   "execution_count": null,
   "metadata": {},
   "outputs": [],
   "source": []
  }
 ],
 "metadata": {
  "kernelspec": {
   "display_name": "Python 3",
   "language": "python",
   "name": "python3"
  },
  "language_info": {
   "codemirror_mode": {
    "name": "ipython",
    "version": 3
   },
   "file_extension": ".py",
   "mimetype": "text/x-python",
   "name": "python",
   "nbconvert_exporter": "python",
   "pygments_lexer": "ipython3",
   "version": "3.8.5"
  }
 },
 "nbformat": 4,
 "nbformat_minor": 4
}
